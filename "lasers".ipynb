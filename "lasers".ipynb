{
 "cells": [
  {
   "cell_type": "code",
   "execution_count": 1,
   "metadata": {
    "collapsed": true
   },
   "outputs": [],
   "source": [
    "import pandas as pd"
   ]
  },
  {
   "cell_type": "code",
   "execution_count": 2,
   "metadata": {
    "collapsed": false
   },
   "outputs": [],
   "source": [
    "lasers = pd.concat([pd.read_excel(\"data/laser_incidents_2010-2014.xls\",\n",
    "                      sheetname=0),\n",
    "                   pd.read_excel(\"data/laser_incidents_2010-2014.xls\",\n",
    "                      sheetname=1),\n",
    "                   pd.read_excel(\"data/laser_incidents_2010-2014.xls\",\n",
    "                      sheetname=2),\n",
    "                   pd.read_excel(\"data/laser_incidents_2010-2014.xls\",\n",
    "                      sheetname=3),\n",
    "                   pd.read_excel(\"data/laser_incidents_2010-2014.xls\",\n",
    "                      sheetname=4)])"
   ]
  },
  {
   "cell_type": "code",
   "execution_count": null,
   "metadata": {
    "collapsed": false
   },
   "outputs": [],
   "source": []
  },
  {
   "cell_type": "code",
   "execution_count": 3,
   "metadata": {
    "collapsed": false
   },
   "outputs": [
    {
     "data": {
      "text/html": [
       "<div>\n",
       "<table border=\"1\" class=\"dataframe\">\n",
       "  <thead>\n",
       "    <tr style=\"text-align: right;\">\n",
       "      <th></th>\n",
       "      <th>AC/ID</th>\n",
       "      <th>ACID</th>\n",
       "      <th>ALT</th>\n",
       "      <th>Aircraft ID</th>\n",
       "      <th>CITY</th>\n",
       "      <th>COLOR</th>\n",
       "      <th>DATE</th>\n",
       "      <th>Injury Reported</th>\n",
       "      <th>MAJOR CITY</th>\n",
       "      <th>No. A/C</th>\n",
       "      <th>STATE</th>\n",
       "      <th>TIME (UTC)</th>\n",
       "      <th>TYPE A/C</th>\n",
       "    </tr>\n",
       "  </thead>\n",
       "  <tbody>\n",
       "    <tr>\n",
       "      <th>0</th>\n",
       "      <td>NaN</td>\n",
       "      <td>AIR1</td>\n",
       "      <td>2000</td>\n",
       "      <td>NaN</td>\n",
       "      <td>Lexington</td>\n",
       "      <td>Green</td>\n",
       "      <td>2010-01-01</td>\n",
       "      <td>NO</td>\n",
       "      <td>LEX</td>\n",
       "      <td>1</td>\n",
       "      <td>Kentucky</td>\n",
       "      <td>102</td>\n",
       "      <td>HELO</td>\n",
       "    </tr>\n",
       "    <tr>\n",
       "      <th>1</th>\n",
       "      <td>NaN</td>\n",
       "      <td>ASA513</td>\n",
       "      <td>10000</td>\n",
       "      <td>NaN</td>\n",
       "      <td>Los Angeles</td>\n",
       "      <td>Green</td>\n",
       "      <td>2010-01-01</td>\n",
       "      <td>NO</td>\n",
       "      <td>LAX</td>\n",
       "      <td>1</td>\n",
       "      <td>California</td>\n",
       "      <td>403</td>\n",
       "      <td>B737</td>\n",
       "    </tr>\n",
       "    <tr>\n",
       "      <th>2</th>\n",
       "      <td>NaN</td>\n",
       "      <td>EGF3002</td>\n",
       "      <td>7000</td>\n",
       "      <td>NaN</td>\n",
       "      <td>Los Angeles</td>\n",
       "      <td>Green</td>\n",
       "      <td>2010-01-01</td>\n",
       "      <td>NO</td>\n",
       "      <td>LAX</td>\n",
       "      <td>1</td>\n",
       "      <td>California</td>\n",
       "      <td>246</td>\n",
       "      <td>E135</td>\n",
       "    </tr>\n",
       "    <tr>\n",
       "      <th>3</th>\n",
       "      <td>NaN</td>\n",
       "      <td>EGF3086</td>\n",
       "      <td>7000</td>\n",
       "      <td>NaN</td>\n",
       "      <td>Los Angeles</td>\n",
       "      <td>Green</td>\n",
       "      <td>2010-01-01</td>\n",
       "      <td>NO</td>\n",
       "      <td>LAX</td>\n",
       "      <td>1</td>\n",
       "      <td>California</td>\n",
       "      <td>157</td>\n",
       "      <td>E135</td>\n",
       "    </tr>\n",
       "    <tr>\n",
       "      <th>4</th>\n",
       "      <td>NaN</td>\n",
       "      <td>JBU300</td>\n",
       "      <td>12500</td>\n",
       "      <td>NaN</td>\n",
       "      <td>Los Alamitos</td>\n",
       "      <td>Green</td>\n",
       "      <td>2010-01-01</td>\n",
       "      <td>NO</td>\n",
       "      <td>SLI</td>\n",
       "      <td>1</td>\n",
       "      <td>California</td>\n",
       "      <td>258</td>\n",
       "      <td>A320</td>\n",
       "    </tr>\n",
       "  </tbody>\n",
       "</table>\n",
       "</div>"
      ],
      "text/plain": [
       "  AC/ID     ACID    ALT Aircraft ID          CITY  COLOR       DATE  \\\n",
       "0   NaN     AIR1   2000         NaN     Lexington  Green 2010-01-01   \n",
       "1   NaN   ASA513  10000         NaN   Los Angeles  Green 2010-01-01   \n",
       "2   NaN  EGF3002   7000         NaN   Los Angeles  Green 2010-01-01   \n",
       "3   NaN  EGF3086   7000         NaN   Los Angeles  Green 2010-01-01   \n",
       "4   NaN   JBU300  12500         NaN  Los Alamitos  Green 2010-01-01   \n",
       "\n",
       "  Injury Reported MAJOR CITY  No. A/C       STATE TIME (UTC) TYPE A/C  \n",
       "0              NO        LEX        1    Kentucky        102     HELO  \n",
       "1              NO        LAX        1  California        403     B737  \n",
       "2              NO        LAX        1  California        246     E135  \n",
       "3              NO        LAX        1  California        157     E135  \n",
       "4              NO        SLI        1  California        258     A320  "
      ]
     },
     "execution_count": 3,
     "metadata": {},
     "output_type": "execute_result"
    }
   ],
   "source": [
    "lasers.head()"
   ]
  },
  {
   "cell_type": "code",
   "execution_count": 4,
   "metadata": {
    "collapsed": false
   },
   "outputs": [
    {
     "data": {
      "text/plain": [
       "California                 3337\n",
       "Texas                      1781\n",
       "Florida                    1476\n",
       "Arizona                     935\n",
       "Pennsylvania                792\n",
       "New York                    677\n",
       "Illinois                    610\n",
       "Oregon                      514\n",
       "Nevada                      450\n",
       "New Jersey                  420\n",
       "North Carolina              406\n",
       "Puerto Rico                 387\n",
       "Hawaii                      347\n",
       "Colorado                    346\n",
       "Ohio                        342\n",
       "Washington                  313\n",
       "Kentucky                    296\n",
       "Tennessee                   289\n",
       "South Carolina              284\n",
       "Utah                        284\n",
       "Virginia                    275\n",
       "Maryland                    267\n",
       "Georgia                     262\n",
       "Michigan                    251\n",
       "Indiana                     244\n",
       "Missouri                    184\n",
       "District of Columbia        169\n",
       "Alabama                     157\n",
       "Louisiana                   147\n",
       "Oklahoma                    138\n",
       "                           ... \n",
       "Massachusetts               124\n",
       "New Mexico                  112\n",
       "Connecticut                 111\n",
       "Kansas                       85\n",
       "Nebraska                     68\n",
       "Arkansas                     65\n",
       "Iowa                         49\n",
       "West Virginia                48\n",
       "Delaware                     46\n",
       "Montana                      41\n",
       "Idaho                        35\n",
       "Mississippi                  35\n",
       "New Hampshire                33\n",
       "Rhode Island                 31\n",
       "North Dakota                 27\n",
       "Maine                        23\n",
       "South Dakota                 22\n",
       "Alaska                       16\n",
       "UNKN                         16\n",
       "Guam                         14\n",
       "Wyoming                      13\n",
       "Vermont                      11\n",
       "Northern Mariana Island       2\n",
       "Virgin Islands                2\n",
       "Pittsburgh                    1\n",
       "Northern Mariana Is           1\n",
       "utah                          1\n",
       "Chicago                       1\n",
       "St Croix                      1\n",
       "Califiornia                   1\n",
       "Name: STATE, dtype: int64"
      ]
     },
     "execution_count": 4,
     "metadata": {},
     "output_type": "execute_result"
    }
   ],
   "source": [
    "## Group by state and count\n",
    "lasers[\"STATE\"].str.strip().value_counts()"
   ]
  },
  {
   "cell_type": "code",
   "execution_count": 5,
   "metadata": {
    "collapsed": true
   },
   "outputs": [],
   "source": [
    "ct_lasers = lasers[lasers[\"STATE\"].str.strip() == \"Connecticut\"]"
   ]
  },
  {
   "cell_type": "code",
   "execution_count": 24,
   "metadata": {
    "collapsed": false
   },
   "outputs": [
    {
     "data": {
      "text/html": [
       "<div>\n",
       "<table border=\"1\" class=\"dataframe\">\n",
       "  <thead>\n",
       "    <tr style=\"text-align: right;\">\n",
       "      <th></th>\n",
       "      <th>CITY</th>\n",
       "    </tr>\n",
       "  </thead>\n",
       "  <tbody>\n",
       "    <tr>\n",
       "      <th>Windsor Locks</th>\n",
       "      <td>48</td>\n",
       "    </tr>\n",
       "    <tr>\n",
       "      <th>Hartford</th>\n",
       "      <td>18</td>\n",
       "    </tr>\n",
       "    <tr>\n",
       "      <th>Bridgeport</th>\n",
       "      <td>16</td>\n",
       "    </tr>\n",
       "    <tr>\n",
       "      <th>Oxford</th>\n",
       "      <td>5</td>\n",
       "    </tr>\n",
       "    <tr>\n",
       "      <th>Groton</th>\n",
       "      <td>5</td>\n",
       "    </tr>\n",
       "    <tr>\n",
       "      <th>New Haven</th>\n",
       "      <td>5</td>\n",
       "    </tr>\n",
       "    <tr>\n",
       "      <th>Danbury</th>\n",
       "      <td>3</td>\n",
       "    </tr>\n",
       "    <tr>\n",
       "      <th>Oxford</th>\n",
       "      <td>2</td>\n",
       "    </tr>\n",
       "    <tr>\n",
       "      <th>Plainville</th>\n",
       "      <td>2</td>\n",
       "    </tr>\n",
       "    <tr>\n",
       "      <th>Madison</th>\n",
       "      <td>2</td>\n",
       "    </tr>\n",
       "    <tr>\n",
       "      <th>Putnam</th>\n",
       "      <td>1</td>\n",
       "    </tr>\n",
       "    <tr>\n",
       "      <th>Meriden</th>\n",
       "      <td>1</td>\n",
       "    </tr>\n",
       "    <tr>\n",
       "      <th>Stamford</th>\n",
       "      <td>1</td>\n",
       "    </tr>\n",
       "    <tr>\n",
       "      <th>East Windsor</th>\n",
       "      <td>1</td>\n",
       "    </tr>\n",
       "    <tr>\n",
       "      <th>Norwalk</th>\n",
       "      <td>1</td>\n",
       "    </tr>\n",
       "  </tbody>\n",
       "</table>\n",
       "</div>"
      ],
      "text/plain": [
       "               CITY\n",
       "Windsor Locks    48\n",
       "Hartford         18\n",
       "Bridgeport       16\n",
       "Oxford            5\n",
       "Groton            5\n",
       "New Haven         5\n",
       "Danbury           3\n",
       "Oxford            2\n",
       "Plainville        2\n",
       "Madison           2\n",
       "Putnam            1\n",
       "Meriden           1\n",
       "Stamford          1\n",
       "East Windsor      1\n",
       "Norwalk           1"
      ]
     },
     "execution_count": 24,
     "metadata": {},
     "output_type": "execute_result"
    }
   ],
   "source": [
    "ct_lasers[\"CITY\"].value_counts().to_frame()"
   ]
  },
  {
   "cell_type": "code",
   "execution_count": 7,
   "metadata": {
    "collapsed": false
   },
   "outputs": [
    {
     "data": {
      "text/plain": [
       "2010-10    3\n",
       "2010-11    3\n",
       "2010-2     1\n",
       "2010-4     3\n",
       "2010-5     4\n",
       "2010-6     1\n",
       "2010-7     3\n",
       "2010-8     4\n",
       "2010-9     6\n",
       "2011-10    4\n",
       "2011-11    3\n",
       "2011-12    2\n",
       "2011-3     4\n",
       "2011-4     3\n",
       "2011-5     3\n",
       "2011-6     1\n",
       "2011-7     1\n",
       "2011-8     3\n",
       "2011-9     2\n",
       "2012-10    1\n",
       "2012-11    1\n",
       "2012-12    2\n",
       "2012-2     2\n",
       "2012-3     1\n",
       "2012-4     1\n",
       "2012-5     1\n",
       "2012-6     7\n",
       "2012-7     4\n",
       "2012-8     2\n",
       "2012-9     3\n",
       "2013-1     3\n",
       "2013-10    3\n",
       "2013-12    1\n",
       "2013-4     1\n",
       "2013-5     3\n",
       "2013-6     1\n",
       "2013-8     2\n",
       "2013-9     3\n",
       "2014-1     1\n",
       "2014-10    1\n",
       "2014-11    3\n",
       "2014-4     1\n",
       "2014-6     2\n",
       "2014-7     2\n",
       "2014-8     5\n",
       "Name: DATE, dtype: int64"
      ]
     },
     "execution_count": 7,
     "metadata": {},
     "output_type": "execute_result"
    }
   ],
   "source": [
    "## CT laser incidents by year and month\n",
    "ct_lasers[\"DATE\"].apply(lambda x: str(x.year) + \"-\" + str(x.month)).value_counts().sort_index()"
   ]
  },
  {
   "cell_type": "code",
   "execution_count": 23,
   "metadata": {
    "collapsed": false
   },
   "outputs": [
    {
     "data": {
      "text/plain": [
       "2010    28\n",
       "2011    26\n",
       "2012    25\n",
       "2013    17\n",
       "2014    15\n",
       "Name: DATE, dtype: int64"
      ]
     },
     "execution_count": 23,
     "metadata": {},
     "output_type": "execute_result"
    }
   ],
   "source": [
    "## CT laser incidents by year and month\n",
    "ct_lasers[\"DATE\"].apply(lambda x: x.year).value_counts().sort_index()"
   ]
  },
  {
   "cell_type": "code",
   "execution_count": 21,
   "metadata": {
    "collapsed": false
   },
   "outputs": [
    {
     "data": {
      "text/plain": [
       "2010    2776\n",
       "2011    3575\n",
       "2012    3482\n",
       "2013    3960\n",
       "2014    3894\n",
       "nan        5\n",
       "Name: DATE, dtype: int64"
      ]
     },
     "execution_count": 21,
     "metadata": {},
     "output_type": "execute_result"
    }
   ],
   "source": [
    "## National laserings by year\n",
    "lasers[\"DATE\"].apply(lambda x: str(x.year)).value_counts().sort_index()"
   ]
  },
  {
   "cell_type": "code",
   "execution_count": 10,
   "metadata": {
    "collapsed": false
   },
   "outputs": [
    {
     "data": {
      "text/plain": [
       "Green             105\n",
       "Blue                3\n",
       "Red/Green/Blue      1\n",
       "White               1\n",
       "Purple              1\n",
       "Name: COLOR, dtype: int64"
      ]
     },
     "execution_count": 10,
     "metadata": {},
     "output_type": "execute_result"
    }
   ],
   "source": [
    "ct_lasers[\"COLOR\"].value_counts()"
   ]
  },
  {
   "cell_type": "code",
   "execution_count": 11,
   "metadata": {
    "collapsed": false
   },
   "outputs": [
    {
     "data": {
      "text/plain": [
       "GREEN                         16523\n",
       "BLUE                            296\n",
       "RED                             271\n",
       "WHITE                           174\n",
       "UNKN                            135\n",
       "GREEN                            95\n",
       "PURPLE                           34\n",
       "GREEN/WHITE                      20\n",
       "GREEN/RED                        13\n",
       "YELLOW                           13\n",
       "RED/GREEN                        12\n",
       "BLUE/GREEN                        9\n",
       "GREEN/BLUE                        7\n",
       "BLUE/PURPLE                       6\n",
       "WHITE/GREEN                       6\n",
       "MULTI-COLORED                     5\n",
       "GREEN/YELLOW                      5\n",
       "GREEN/RED/BLUE                    4\n",
       " GREEN                            4\n",
       "GREEN/PURPLE                      4\n",
       "RED AND GREEN                     4\n",
       "YELLOW/WHITE                      3\n",
       "WHITE AND GREEN                   3\n",
       "WHITE/RED                         3\n",
       "BLUE/WHITE                        3\n",
       "PURPLE/BLUE                       3\n",
       "ORANGE                            3\n",
       "MULTICOLOR                        2\n",
       "RED, WHITE, BLUE AND GREEN        1\n",
       "MULTI-COLOR                       1\n",
       "GREEN/ORANGE                      1\n",
       "BLUE/RED                          1\n",
       "VIOLET                            1\n",
       "GREEN OR BLUE                     1\n",
       "WHITE                             1\n",
       "PURPLE/WHITE                      1\n",
       "RED, GREEN, WHITE                 1\n",
       "GREEN/ BLUE                       1\n",
       "RED/WHITE/BLUE                    1\n",
       "ORANGE/RED                        1\n",
       "ORANGE/YELLOW                     1\n",
       "WHITE/YELLOW                      1\n",
       "GRAY                              1\n",
       "AMBER                             1\n",
       "GREEN AND WHITE                   1\n",
       "GREEN/RED/WHITE                   1\n",
       "RED AND WHITE                     1\n",
       "WHITE-GREEN                       1\n",
       "RED/GREEN/BLUE                    1\n",
       "GREY/WHITE                        1\n",
       "GREEN OR WHITE                    1\n",
       "BLUE OR WHITE                     1\n",
       "ORANGE/WHITE                      1\n",
       "SPOTLIGHT                         1\n",
       "MULTIPLE                          1\n",
       "Name: COLOR, dtype: int64"
      ]
     },
     "execution_count": 11,
     "metadata": {},
     "output_type": "execute_result"
    }
   ],
   "source": [
    "lasers[\"COLOR\"].str.upper().value_counts()"
   ]
  },
  {
   "cell_type": "code",
   "execution_count": 13,
   "metadata": {
    "collapsed": false
   },
   "outputs": [
    {
     "data": {
      "text/plain": [
       "NO      17360\n",
       "No        184\n",
       "NO*        73\n",
       "*NO        35\n",
       "NO         33\n",
       "NO          1\n",
       "Name: Injury Reported, dtype: int64"
      ]
     },
     "execution_count": 13,
     "metadata": {},
     "output_type": "execute_result"
    }
   ],
   "source": [
    "lasers[\"Injury Reported\"].value_counts()"
   ]
  },
  {
   "cell_type": "code",
   "execution_count": 17,
   "metadata": {
    "collapsed": false
   },
   "outputs": [
    {
     "data": {
      "text/plain": [
       "4000     13\n",
       "5000     12\n",
       "3000     10\n",
       "6000      7\n",
       "2500      6\n",
       "7000      6\n",
       "1000      5\n",
       "11000     5\n",
       "3500      5\n",
       "UNKN      4\n",
       "10000     4\n",
       "2000      4\n",
       "8000      3\n",
       "4500      3\n",
       "5500      2\n",
       "13000     2\n",
       "1800      2\n",
       "17000     2\n",
       "2700      1\n",
       "14000     1\n",
       "15000     1\n",
       "FL180     1\n",
       "14500     1\n",
       "FL200     1\n",
       "15500     1\n",
       "600       1\n",
       "3400      1\n",
       "5900      1\n",
       "7500      1\n",
       "3700      1\n",
       "800       1\n",
       "16000     1\n",
       "6500      1\n",
       "2200      1\n",
       "Name: ALT, dtype: int64"
      ]
     },
     "execution_count": 17,
     "metadata": {},
     "output_type": "execute_result"
    }
   ],
   "source": [
    "ct_lasers[\"ALT\"].value_counts().sort_values(ascending=False)"
   ]
  },
  {
   "cell_type": "code",
   "execution_count": 19,
   "metadata": {
    "collapsed": false
   },
   "outputs": [
    {
     "data": {
      "text/plain": [
       "3000     1419\n",
       "4000     1207\n",
       "2000     1080\n",
       "5000      950\n",
       "6000      932\n",
       "7000      719\n",
       "2500      718\n",
       "8000      690\n",
       "1500      636\n",
       "10000     626\n",
       "1000      555\n",
       "11000     477\n",
       "UNKN      469\n",
       "3500      465\n",
       "9000      453\n",
       "4500      326\n",
       "12000     287\n",
       "5500      245\n",
       "13000     231\n",
       "1800      213\n",
       "500       207\n",
       "800       196\n",
       "6500      171\n",
       "1200      170\n",
       "15000     162\n",
       "16000     149\n",
       "1600      145\n",
       "2200      144\n",
       "14000     134\n",
       "1700      129\n",
       "         ... \n",
       "Fl200       1\n",
       "1550        1\n",
       "28500       1\n",
       "12200       1\n",
       "9           1\n",
       "13400       1\n",
       "80          1\n",
       "1150        1\n",
       "11700       1\n",
       "11000       1\n",
       "9700        1\n",
       "18300       1\n",
       "26500       1\n",
       "101         1\n",
       "1200        1\n",
       "Fl230       1\n",
       "85          1\n",
       "Fl320       1\n",
       "12          1\n",
       "8           1\n",
       "70          1\n",
       "Fl270       1\n",
       "18500       1\n",
       "40          1\n",
       "24500       1\n",
       "45          1\n",
       "45000       1\n",
       "21          1\n",
       "13          1\n",
       "2034        1\n",
       "Name: ALT, dtype: int64"
      ]
     },
     "execution_count": 19,
     "metadata": {},
     "output_type": "execute_result"
    }
   ],
   "source": [
    "lasers[\"ALT\"].value_counts().sort_values(ascending=False)"
   ]
  },
  {
   "cell_type": "code",
   "execution_count": null,
   "metadata": {
    "collapsed": true
   },
   "outputs": [],
   "source": []
  },
  {
   "cell_type": "code",
   "execution_count": null,
   "metadata": {
    "collapsed": true
   },
   "outputs": [],
   "source": []
  }
 ],
 "metadata": {
  "kernelspec": {
   "display_name": "Python 2",
   "language": "python",
   "name": "python2"
  },
  "language_info": {
   "codemirror_mode": {
    "name": "ipython",
    "version": 2
   },
   "file_extension": ".py",
   "mimetype": "text/x-python",
   "name": "python",
   "nbconvert_exporter": "python",
   "pygments_lexer": "ipython2",
   "version": "2.7.11"
  }
 },
 "nbformat": 4,
 "nbformat_minor": 0
}
